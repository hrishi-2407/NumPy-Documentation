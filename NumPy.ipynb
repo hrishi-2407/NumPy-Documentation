{
 "cells": [
  {
   "cell_type": "markdown",
   "id": "8335018c-bf4c-4a8d-93f5-7c24a7955cb2",
   "metadata": {},
   "source": [
    "### Python Numpy Arrays: Extensive Documentation"
   ]
  },
  {
   "cell_type": "code",
   "execution_count": 1,
   "id": "60606ebe-2252-4e7e-9d06-bfd582afbf5b",
   "metadata": {},
   "outputs": [],
   "source": [
    "import numpy as np"
   ]
  },
  {
   "cell_type": "code",
   "execution_count": 2,
   "id": "284ddd42-af24-4cf8-a084-8ee121b486ce",
   "metadata": {},
   "outputs": [],
   "source": [
    "lst = [1,2,3,4]\n",
    "arr = np.array(lst)"
   ]
  },
  {
   "cell_type": "code",
   "execution_count": 3,
   "id": "90ad98a2-c597-451e-99c0-86d89f83f935",
   "metadata": {},
   "outputs": [
    {
     "data": {
      "text/plain": [
       "array([1, 2, 3, 4])"
      ]
     },
     "execution_count": 3,
     "metadata": {},
     "output_type": "execute_result"
    }
   ],
   "source": [
    "arr"
   ]
  },
  {
   "cell_type": "code",
   "execution_count": 4,
   "id": "136e975c-c261-4a02-8def-06e7be98694d",
   "metadata": {},
   "outputs": [
    {
     "name": "stdout",
     "output_type": "stream",
     "text": [
      "[1 2 3 4]\n"
     ]
    }
   ],
   "source": [
    "print(arr)"
   ]
  },
  {
   "cell_type": "code",
   "execution_count": 5,
   "id": "27618dcf-b771-440f-8902-f00c58197692",
   "metadata": {},
   "outputs": [
    {
     "data": {
      "text/plain": [
       "numpy.ndarray"
      ]
     },
     "execution_count": 5,
     "metadata": {},
     "output_type": "execute_result"
    }
   ],
   "source": [
    "type(arr)"
   ]
  },
  {
   "cell_type": "code",
   "execution_count": 6,
   "id": "a5a86089-0836-40b1-b2c5-23d0d0b830b7",
   "metadata": {},
   "outputs": [
    {
     "data": {
      "text/plain": [
       "(4,)"
      ]
     },
     "execution_count": 6,
     "metadata": {},
     "output_type": "execute_result"
    }
   ],
   "source": [
    "arr.shape"
   ]
  },
  {
   "cell_type": "code",
   "execution_count": 7,
   "id": "83fde7f0-f3b9-446b-852b-3508eaca687c",
   "metadata": {},
   "outputs": [
    {
     "data": {
      "text/plain": [
       "1"
      ]
     },
     "execution_count": 7,
     "metadata": {},
     "output_type": "execute_result"
    }
   ],
   "source": [
    "arr.ndim"
   ]
  },
  {
   "cell_type": "code",
   "execution_count": 8,
   "id": "f1439584-e78b-498d-a1c5-e172529b417c",
   "metadata": {},
   "outputs": [],
   "source": [
    "lst1 = [1,2,3,4,5]\n",
    "lst2 = [2,3,4,5,6]\n",
    "lst3 = [3,4,5,6,7]"
   ]
  },
  {
   "cell_type": "code",
   "execution_count": 9,
   "id": "e5fe83a0-40da-461a-9f38-9db10c82e6f6",
   "metadata": {},
   "outputs": [
    {
     "data": {
      "text/plain": [
       "array([[1, 2, 3, 4, 5],\n",
       "       [2, 3, 4, 5, 6],\n",
       "       [3, 4, 5, 6, 7]])"
      ]
     },
     "execution_count": 9,
     "metadata": {},
     "output_type": "execute_result"
    }
   ],
   "source": [
    "arr1 = np.array([lst1, lst2, lst3])\n",
    "arr1"
   ]
  },
  {
   "cell_type": "code",
   "execution_count": 10,
   "id": "62213253-68e7-4d95-8116-e0310666a31d",
   "metadata": {},
   "outputs": [],
   "source": [
    "## look for the no. of [ to identify the dimnesion of the array"
   ]
  },
  {
   "cell_type": "code",
   "execution_count": 11,
   "id": "3dced04e-cf44-443e-bef4-67a1d4f86b93",
   "metadata": {},
   "outputs": [
    {
     "data": {
      "text/plain": [
       "(3, 5)"
      ]
     },
     "execution_count": 11,
     "metadata": {},
     "output_type": "execute_result"
    }
   ],
   "source": [
    "arr1.shape"
   ]
  },
  {
   "cell_type": "code",
   "execution_count": 12,
   "id": "0a90e5c7-0aed-4307-a92a-210882806107",
   "metadata": {},
   "outputs": [
    {
     "data": {
      "text/plain": [
       "2"
      ]
     },
     "execution_count": 12,
     "metadata": {},
     "output_type": "execute_result"
    }
   ],
   "source": [
    "arr1.ndim"
   ]
  },
  {
   "cell_type": "code",
   "execution_count": 13,
   "id": "0d6d99dd-569a-4da3-99d9-0fec52341506",
   "metadata": {},
   "outputs": [
    {
     "name": "stdout",
     "output_type": "stream",
     "text": [
      "[[1 2 3 4 5]\n",
      " [2 3 4 5 6]\n",
      " [3 4 5 6 7]]\n"
     ]
    }
   ],
   "source": [
    "print(arr1)"
   ]
  },
  {
   "cell_type": "markdown",
   "id": "675d6da7-3387-4b9f-a197-10e1d8c84b67",
   "metadata": {},
   "source": [
    "## Array Indexing & Slicing"
   ]
  },
  {
   "cell_type": "code",
   "execution_count": 14,
   "id": "b3d5d04d-ace0-4d81-8a71-db550e70fff0",
   "metadata": {},
   "outputs": [
    {
     "data": {
      "text/plain": [
       "array([1, 2, 3, 4])"
      ]
     },
     "execution_count": 14,
     "metadata": {},
     "output_type": "execute_result"
    }
   ],
   "source": [
    "arr"
   ]
  },
  {
   "cell_type": "code",
   "execution_count": 15,
   "id": "0258b608-609a-4212-8564-de1eaadcede9",
   "metadata": {},
   "outputs": [
    {
     "data": {
      "text/plain": [
       "4"
      ]
     },
     "execution_count": 15,
     "metadata": {},
     "output_type": "execute_result"
    }
   ],
   "source": [
    "arr[3]"
   ]
  },
  {
   "cell_type": "code",
   "execution_count": 16,
   "id": "31f625c7-ba5b-4fb8-8696-7098b97b9872",
   "metadata": {},
   "outputs": [
    {
     "data": {
      "text/plain": [
       "array([1, 2, 3, 5])"
      ]
     },
     "execution_count": 16,
     "metadata": {},
     "output_type": "execute_result"
    }
   ],
   "source": [
    "arr[3] = 5\n",
    "arr"
   ]
  },
  {
   "cell_type": "code",
   "execution_count": 17,
   "id": "b66f69ea-226e-4f70-9b7b-09744627b883",
   "metadata": {},
   "outputs": [
    {
     "data": {
      "text/plain": [
       "array([2, 3, 5])"
      ]
     },
     "execution_count": 17,
     "metadata": {},
     "output_type": "execute_result"
    }
   ],
   "source": [
    "arr[1:]"
   ]
  },
  {
   "cell_type": "code",
   "execution_count": 18,
   "id": "6e20256f-c314-4a47-a917-6bb703cd7304",
   "metadata": {},
   "outputs": [
    {
     "data": {
      "text/plain": [
       "array([[1, 2, 3, 4, 5],\n",
       "       [2, 3, 4, 5, 6],\n",
       "       [3, 4, 5, 6, 7]])"
      ]
     },
     "execution_count": 18,
     "metadata": {},
     "output_type": "execute_result"
    }
   ],
   "source": [
    "arr1"
   ]
  },
  {
   "cell_type": "code",
   "execution_count": 19,
   "id": "15653b22-c162-4085-b142-b5e20b5e0e12",
   "metadata": {},
   "outputs": [
    {
     "data": {
      "text/plain": [
       "array([2, 3, 4])"
      ]
     },
     "execution_count": 19,
     "metadata": {},
     "output_type": "execute_result"
    }
   ],
   "source": [
    "## index on left of comma represents rows and to the right indicate columns\n",
    "arr1[:,1]"
   ]
  },
  {
   "cell_type": "code",
   "execution_count": 20,
   "id": "f67654b1-cf84-4f2f-9d30-435c3186a938",
   "metadata": {},
   "outputs": [
    {
     "data": {
      "text/plain": [
       "array([[3, 4],\n",
       "       [4, 5]])"
      ]
     },
     "execution_count": 20,
     "metadata": {},
     "output_type": "execute_result"
    }
   ],
   "source": [
    "arr1[1:,1:3]"
   ]
  },
  {
   "cell_type": "code",
   "execution_count": 21,
   "id": "c347597c-0077-417f-b9f9-98586e396d76",
   "metadata": {},
   "outputs": [
    {
     "data": {
      "text/plain": [
       "array([[4, 5],\n",
       "       [5, 6],\n",
       "       [6, 7]])"
      ]
     },
     "execution_count": 21,
     "metadata": {},
     "output_type": "execute_result"
    }
   ],
   "source": [
    "arr1[:,3:]"
   ]
  },
  {
   "cell_type": "code",
   "execution_count": 22,
   "id": "c786a447-1df6-4a31-8f30-98e8d897e14b",
   "metadata": {},
   "outputs": [
    {
     "data": {
      "text/plain": [
       "(3, 2)"
      ]
     },
     "execution_count": 22,
     "metadata": {},
     "output_type": "execute_result"
    }
   ],
   "source": [
    "arr1[:,3:].shape"
   ]
  },
  {
   "cell_type": "markdown",
   "id": "9c530d33-4366-4db8-81dc-169180f93c88",
   "metadata": {},
   "source": [
    "## Element insertion and deletion in NumPy Arrays"
   ]
  },
  {
   "cell_type": "code",
   "execution_count": 23,
   "id": "2f90f25d-b809-4682-9217-ad1cdaefbfa5",
   "metadata": {},
   "outputs": [],
   "source": [
    "x = np.array([1,2,3,4])"
   ]
  },
  {
   "cell_type": "code",
   "execution_count": 24,
   "id": "cb76cb69-c32a-42c0-aa5e-bdee61be12c8",
   "metadata": {},
   "outputs": [
    {
     "data": {
      "text/plain": [
       "array([1, 2, 3, 4, 6])"
      ]
     },
     "execution_count": 24,
     "metadata": {},
     "output_type": "execute_result"
    }
   ],
   "source": [
    "np.append(x, 6)"
   ]
  },
  {
   "cell_type": "code",
   "execution_count": 25,
   "id": "bfb503ca-0efd-4a7a-9ab7-81d6fe9c34b3",
   "metadata": {},
   "outputs": [
    {
     "data": {
      "text/plain": [
       "array([1, 2, 3, 9, 4])"
      ]
     },
     "execution_count": 25,
     "metadata": {},
     "output_type": "execute_result"
    }
   ],
   "source": [
    "np.insert(x, 3, 9)"
   ]
  },
  {
   "cell_type": "code",
   "execution_count": 26,
   "id": "1743661c-096f-4ee2-b54d-e29e9076484e",
   "metadata": {},
   "outputs": [
    {
     "data": {
      "text/plain": [
       "array([1, 2, 4])"
      ]
     },
     "execution_count": 26,
     "metadata": {},
     "output_type": "execute_result"
    }
   ],
   "source": [
    "np.delete(x, 2)"
   ]
  },
  {
   "cell_type": "markdown",
   "id": "e85aeac2-f413-4cf3-b880-64aa38d448c2",
   "metadata": {},
   "source": [
    "## Sort, Filter and Search operations"
   ]
  },
  {
   "cell_type": "code",
   "execution_count": 27,
   "id": "e7259033-b1ac-437d-8094-7f3f02915ade",
   "metadata": {},
   "outputs": [],
   "source": [
    "ar_1d = np.array([6,2,9,5,4,1,7])"
   ]
  },
  {
   "cell_type": "code",
   "execution_count": 28,
   "id": "2985e83a-ca2c-4fd7-842e-51cd3ca88370",
   "metadata": {},
   "outputs": [
    {
     "data": {
      "text/plain": [
       "array([1, 2, 4, 5, 6, 7, 9])"
      ]
     },
     "execution_count": 28,
     "metadata": {},
     "output_type": "execute_result"
    }
   ],
   "source": [
    "np.sort(ar_1d)"
   ]
  },
  {
   "cell_type": "code",
   "execution_count": 29,
   "id": "66531bea-1cd2-446c-b77b-e6a1730e02f0",
   "metadata": {},
   "outputs": [],
   "source": [
    "ar_2d = np.array([[5,2,8,7],[9,2,3,7]])"
   ]
  },
  {
   "cell_type": "code",
   "execution_count": 30,
   "id": "5e940844-4736-40c5-b293-e23383833547",
   "metadata": {},
   "outputs": [
    {
     "data": {
      "text/plain": [
       "array([[2, 5, 7, 8],\n",
       "       [2, 3, 7, 9]])"
      ]
     },
     "execution_count": 30,
     "metadata": {},
     "output_type": "execute_result"
    }
   ],
   "source": [
    "np.sort(ar_2d)"
   ]
  },
  {
   "cell_type": "code",
   "execution_count": 31,
   "id": "651de1bf-fb8a-48fe-99bf-d3e3b3893a15",
   "metadata": {},
   "outputs": [
    {
     "data": {
      "text/plain": [
       "(array([2], dtype=int64),)"
      ]
     },
     "execution_count": 31,
     "metadata": {},
     "output_type": "execute_result"
    }
   ],
   "source": [
    "np.where(ar_1d == 9)"
   ]
  },
  {
   "cell_type": "code",
   "execution_count": 32,
   "id": "5388b1af-bfab-4fb2-9fe3-ec7182897b1b",
   "metadata": {},
   "outputs": [
    {
     "data": {
      "text/plain": [
       "(array([1], dtype=int64),)"
      ]
     },
     "execution_count": 32,
     "metadata": {},
     "output_type": "execute_result"
    }
   ],
   "source": [
    "np.where(arr % 2 == 0)"
   ]
  },
  {
   "cell_type": "code",
   "execution_count": 33,
   "id": "3d54603d-90dc-4a4f-a616-3254bf671f1c",
   "metadata": {},
   "outputs": [
    {
     "data": {
      "text/plain": [
       "array([6, 9, 7])"
      ]
     },
     "execution_count": 33,
     "metadata": {},
     "output_type": "execute_result"
    }
   ],
   "source": [
    "ar_1d[ar_1d>5]"
   ]
  },
  {
   "cell_type": "markdown",
   "id": "b8d456e5-c4f4-4404-8eb9-1eae3852573e",
   "metadata": {},
   "source": [
    "### Concatenation"
   ]
  },
  {
   "cell_type": "code",
   "execution_count": 34,
   "id": "cc490eb0-44e3-4c21-8099-779ccd0d78f4",
   "metadata": {},
   "outputs": [
    {
     "data": {
      "text/plain": [
       "array([[1, 2, 3],\n",
       "       [5, 6, 7]])"
      ]
     },
     "execution_count": 34,
     "metadata": {},
     "output_type": "execute_result"
    }
   ],
   "source": [
    "np.concatenate((arr1[:1,:3], arr1[2:,2:]))"
   ]
  },
  {
   "cell_type": "code",
   "execution_count": 35,
   "id": "7dcb2efb-b98d-47d9-ae06-84d1e9dbdbe6",
   "metadata": {},
   "outputs": [
    {
     "data": {
      "text/plain": [
       "array([[1, 2, 3],\n",
       "       [5, 6, 7]])"
      ]
     },
     "execution_count": 35,
     "metadata": {},
     "output_type": "execute_result"
    }
   ],
   "source": [
    "np.concatenate((arr1[:1,:3], arr1[2:,2:]), axis=0)"
   ]
  },
  {
   "cell_type": "code",
   "execution_count": 36,
   "id": "4446ad71-6bdf-4676-a11a-dfc314b0c187",
   "metadata": {},
   "outputs": [
    {
     "data": {
      "text/plain": [
       "array([[1, 2, 3, 5, 6, 7]])"
      ]
     },
     "execution_count": 36,
     "metadata": {},
     "output_type": "execute_result"
    }
   ],
   "source": [
    "np.concatenate((arr1[:1,:3], arr1[2:,2:]), axis = 1)"
   ]
  },
  {
   "cell_type": "code",
   "execution_count": 37,
   "id": "97a94d5e-2383-43ee-bffb-7f33d52adbbe",
   "metadata": {},
   "outputs": [],
   "source": [
    "a = np.array([[10,20],[30,40]])\n",
    "b = np.array([[1,2],[3,4]])"
   ]
  },
  {
   "cell_type": "code",
   "execution_count": 38,
   "id": "0c41449e-e9b7-4453-9f49-d1122ee2914c",
   "metadata": {},
   "outputs": [
    {
     "data": {
      "text/plain": [
       "array([[10, 20],\n",
       "       [30, 40],\n",
       "       [ 1,  2],\n",
       "       [ 3,  4]])"
      ]
     },
     "execution_count": 38,
     "metadata": {},
     "output_type": "execute_result"
    }
   ],
   "source": [
    "np.concatenate((a,b))  ## --> same as np.concatenate((a,b), axis=0)"
   ]
  },
  {
   "cell_type": "code",
   "execution_count": 39,
   "id": "0295df31-23b4-4854-8f16-b6625126c9f4",
   "metadata": {},
   "outputs": [
    {
     "data": {
      "text/plain": [
       "array([[10, 20],\n",
       "       [30, 40],\n",
       "       [ 1,  2],\n",
       "       [ 3,  4]])"
      ]
     },
     "execution_count": 39,
     "metadata": {},
     "output_type": "execute_result"
    }
   ],
   "source": [
    "np.vstack((a, b))  ## --> vertical concatenation (same as axis=0)"
   ]
  },
  {
   "cell_type": "code",
   "execution_count": 40,
   "id": "95b9e4c7-4cac-4709-ae20-243f1cb9e34d",
   "metadata": {},
   "outputs": [
    {
     "data": {
      "text/plain": [
       "array([[10, 20,  1,  2],\n",
       "       [30, 40,  3,  4]])"
      ]
     },
     "execution_count": 40,
     "metadata": {},
     "output_type": "execute_result"
    }
   ],
   "source": [
    "np.concatenate((a,b), axis=1)"
   ]
  },
  {
   "cell_type": "code",
   "execution_count": 41,
   "id": "06f2e481-46ca-49af-9465-90dcc66a4481",
   "metadata": {},
   "outputs": [
    {
     "data": {
      "text/plain": [
       "array([[10, 20,  1,  2],\n",
       "       [30, 40,  3,  4]])"
      ]
     },
     "execution_count": 41,
     "metadata": {},
     "output_type": "execute_result"
    }
   ],
   "source": [
    "np.hstack((a,b))  ## --> horizontal concatenation (same as axis=1)"
   ]
  },
  {
   "cell_type": "code",
   "execution_count": 42,
   "id": "79c99d63-5101-49e5-8424-2c4bb37ca529",
   "metadata": {},
   "outputs": [
    {
     "name": "stdout",
     "output_type": "stream",
     "text": [
      "[[10 20  1  2]\n",
      " [30 40  3  4]]\n"
     ]
    }
   ],
   "source": [
    "print(np.hstack((a, b)))"
   ]
  },
  {
   "cell_type": "markdown",
   "id": "bb5ece8a-f3c6-4fd0-8065-ae193e71e090",
   "metadata": {},
   "source": [
    "### Aggregate functions in NumPy"
   ]
  },
  {
   "cell_type": "code",
   "execution_count": 43,
   "id": "6529572e-5ac4-4007-ae3c-6946e6b18f2f",
   "metadata": {},
   "outputs": [
    {
     "data": {
      "text/plain": [
       "array([1, 2, 3, 4])"
      ]
     },
     "execution_count": 43,
     "metadata": {},
     "output_type": "execute_result"
    }
   ],
   "source": [
    "x"
   ]
  },
  {
   "cell_type": "code",
   "execution_count": 44,
   "id": "5c4d8774-9674-4737-8e3e-b027a0e3d981",
   "metadata": {},
   "outputs": [
    {
     "data": {
      "text/plain": [
       "array([ 1,  3,  6, 10])"
      ]
     },
     "execution_count": 44,
     "metadata": {},
     "output_type": "execute_result"
    }
   ],
   "source": [
    "np.sum(x)\n",
    "np.min(x)\n",
    "np.max(x)\n",
    "np.size(x)\n",
    "np.mean(x)\n",
    "np.cumsum(x)\n",
    "## this code will only give output of the last line only"
   ]
  },
  {
   "cell_type": "code",
   "execution_count": 45,
   "id": "a1868005-2adf-47fe-9f6b-7d4257672f68",
   "metadata": {},
   "outputs": [
    {
     "name": "stdout",
     "output_type": "stream",
     "text": [
      "10\n",
      "1\n",
      "4\n",
      "4\n",
      "2.5\n",
      "[ 1  3  6 10]\n",
      "[ 1  2  6 24]\n"
     ]
    }
   ],
   "source": [
    "## this code will give output of all lines present in the block\n",
    "print(np.sum(x))\n",
    "print(np.min(x))\n",
    "print(np.max(x))\n",
    "print(np.size(x))\n",
    "print(np.mean(x))\n",
    "print(np.cumsum(x))\n",
    "print(np.cumprod(x))"
   ]
  },
  {
   "cell_type": "code",
   "execution_count": 46,
   "id": "1a205e96-5b4b-4123-bc80-ae62d1da429f",
   "metadata": {},
   "outputs": [],
   "source": [
    "y = np.array([3,6,3,1])"
   ]
  },
  {
   "cell_type": "code",
   "execution_count": 47,
   "id": "080d6d38-fd92-49ff-9ff4-6c9e67693a35",
   "metadata": {},
   "outputs": [
    {
     "data": {
      "text/plain": [
       "array([[ 1,  2,  6, 24],\n",
       "       [ 3, 18, 54, 54]])"
      ]
     },
     "execution_count": 47,
     "metadata": {},
     "output_type": "execute_result"
    }
   ],
   "source": [
    "np.cumprod((x,y), axis = 1)"
   ]
  },
  {
   "cell_type": "markdown",
   "id": "d778e518-4a72-4d2b-a3ad-6828babdbbbf",
   "metadata": {},
   "source": [
    "### Statistical functions"
   ]
  },
  {
   "cell_type": "code",
   "execution_count": 48,
   "id": "78673096-cc30-4806-8132-c8c24aee181f",
   "metadata": {},
   "outputs": [],
   "source": [
    "import statistics as stats"
   ]
  },
  {
   "cell_type": "code",
   "execution_count": 49,
   "id": "77428eb7-7b1b-4e3d-9f3f-574ab1d87cb1",
   "metadata": {},
   "outputs": [],
   "source": [
    "stat = np.array([320, 231, 540, 494, 190, 325, 270])"
   ]
  },
  {
   "cell_type": "code",
   "execution_count": 50,
   "id": "81a42ff5-fec0-4138-a0ac-f6044e27c0c5",
   "metadata": {},
   "outputs": [
    {
     "name": "stdout",
     "output_type": "stream",
     "text": [
      "338.57142857142856\n",
      "320.0\n",
      "320\n",
      "121.65977988150533\n",
      "14801.102040816328\n"
     ]
    }
   ],
   "source": [
    "print(np.mean(stat))\n",
    "print(np.median(stat))\n",
    "print(stats.mode(stat))\n",
    "print(np.std(stat))  ## --> standard deviation data ka spread batata hai\n",
    "print(np.var(stat))  ## --> same as std**2"
   ]
  },
  {
   "cell_type": "code",
   "execution_count": 51,
   "id": "570c64dc-022f-40ea-84c1-0010eae7bf4b",
   "metadata": {},
   "outputs": [
    {
     "name": "stdout",
     "output_type": "stream",
     "text": [
      "[[1.         0.98570065]\n",
      " [0.98570065 1.        ]]\n"
     ]
    }
   ],
   "source": [
    "## Coefficient of Correlation\n",
    "## Shows inter-dependency of 1 value with another\n",
    "\n",
    "tobacco_consumption = [200, 350, 225, 190, 400, 300]\n",
    "deaths = [30, 42, 32, 29, 50, 37]\n",
    "print(np.corrcoef([tobacco_consumption, deaths]))"
   ]
  },
  {
   "cell_type": "markdown",
   "id": "e103a236-f89f-4e50-9fa8-1f03db96ce65",
   "metadata": {},
   "source": [
    "##### +ve correlation shows if one quantity increases other also increases"
   ]
  },
  {
   "cell_type": "code",
   "execution_count": 52,
   "id": "38dfcacb-1cc7-44d3-b6ab-84b326edd5d7",
   "metadata": {},
   "outputs": [
    {
     "data": {
      "text/plain": [
       "array([[ 1.        , -0.98691004],\n",
       "       [-0.98691004,  1.        ]])"
      ]
     },
     "execution_count": 52,
     "metadata": {},
     "output_type": "execute_result"
    }
   ],
   "source": [
    "product_price = [200, 170, 100, 210, 300, 230]\n",
    "sales = [20, 25, 34, 22, 11, 17]\n",
    "np.corrcoef(product_price, sales)"
   ]
  },
  {
   "cell_type": "markdown",
   "id": "3ac34b52-24b0-4837-a54d-dfd1446b32cf",
   "metadata": {},
   "source": [
    "##### -ve correlation shows if one quantity increases other decreases"
   ]
  },
  {
   "cell_type": "markdown",
   "id": "4b755033-a032-48c0-b463-7e04b21f0038",
   "metadata": {},
   "source": [
    "### -----------"
   ]
  },
  {
   "cell_type": "markdown",
   "id": "e4765cdb-a225-41fc-bcc5-58b269d6382b",
   "metadata": {},
   "source": [
    "### Broadcasting in NumPy"
   ]
  },
  {
   "cell_type": "code",
   "execution_count": 53,
   "id": "90373383-b407-4312-adb7-c701f8eb2a39",
   "metadata": {},
   "outputs": [],
   "source": [
    "var1 = np.array([1,2,3])       ## --> 1x3\n",
    "var2 = np.array([4,5,6])       ## --> 1x3\n",
    "var3 = np.array([[1],[2],[3]]) ## --> 3x1\n",
    "var4 = np.array([1,2,3,4])     ## --> 1x4 (broadcasting not possible)"
   ]
  },
  {
   "cell_type": "code",
   "execution_count": 54,
   "id": "fb4301e6-933d-484a-8eb8-46012b048cc0",
   "metadata": {},
   "outputs": [
    {
     "name": "stdout",
     "output_type": "stream",
     "text": [
      "[5 7 9]\n",
      "21\n",
      "\n",
      " [[2 3 4]\n",
      " [3 4 5]\n",
      " [4 5 6]]\n"
     ]
    }
   ],
   "source": [
    "print(var1+var2)\n",
    "print(np.sum((var1, var2)))\n",
    "print('\\n', var1+var3)"
   ]
  },
  {
   "cell_type": "code",
   "execution_count": 55,
   "id": "e1ba1b5a-c81a-4c16-91ef-52b84eb022ab",
   "metadata": {},
   "outputs": [],
   "source": [
    "var5 = np.array([[3],[7]])         ## --> 2x1\n",
    "var6 = np.array([[1,2,3],[4,5,6]]) ## --> 2x3 (broadcast possible)"
   ]
  },
  {
   "cell_type": "code",
   "execution_count": 56,
   "id": "00d03240-b1c3-4eac-86e1-52c743c1547e",
   "metadata": {},
   "outputs": [
    {
     "name": "stdout",
     "output_type": "stream",
     "text": [
      "(2, 1)\n",
      "(2, 3)\n"
     ]
    }
   ],
   "source": [
    "print(var5.shape)\n",
    "print(var6.shape)"
   ]
  },
  {
   "cell_type": "code",
   "execution_count": 57,
   "id": "87659dd8-2039-402d-b616-24b4771217a8",
   "metadata": {},
   "outputs": [
    {
     "data": {
      "text/plain": [
       "array([[ 4,  5,  6],\n",
       "       [11, 12, 13]])"
      ]
     },
     "execution_count": 57,
     "metadata": {},
     "output_type": "execute_result"
    }
   ],
   "source": [
    "(var5+var6)"
   ]
  },
  {
   "cell_type": "code",
   "execution_count": null,
   "id": "5f14c70b-a3b3-49d4-b743-ff978d9740d9",
   "metadata": {},
   "outputs": [],
   "source": []
  },
  {
   "cell_type": "markdown",
   "id": "93c68fe9-28e7-4dac-aecf-d40dcdcab794",
   "metadata": {},
   "source": [
    "### Iterating NumPy arrays"
   ]
  },
  {
   "cell_type": "code",
   "execution_count": 58,
   "id": "11894739-b93a-4aa7-a6b7-9d3189063058",
   "metadata": {},
   "outputs": [],
   "source": [
    "ar_1 = np.array([1,2,3,4])\n",
    "ar_2 = np.array([[1,2],[3,4]])\n",
    "ar_3 = np.array([[[1,2],[3,4]]])"
   ]
  },
  {
   "cell_type": "code",
   "execution_count": 59,
   "id": "4c8ca247-60f6-4725-b2ed-ae8790cd5916",
   "metadata": {},
   "outputs": [
    {
     "name": "stdout",
     "output_type": "stream",
     "text": [
      "1\n",
      "2\n",
      "3\n"
     ]
    }
   ],
   "source": [
    "print(ar_1.ndim)\n",
    "print(ar_2.ndim)\n",
    "print(ar_3.ndim)"
   ]
  },
  {
   "cell_type": "code",
   "execution_count": 60,
   "id": "47b7b5cf-89fd-4ade-bae7-2bd507cf7b02",
   "metadata": {},
   "outputs": [
    {
     "name": "stdout",
     "output_type": "stream",
     "text": [
      "1\n",
      "2\n",
      "3\n",
      "4\n"
     ]
    }
   ],
   "source": [
    "for i in ar_1:\n",
    "    print(i)"
   ]
  },
  {
   "cell_type": "code",
   "execution_count": 61,
   "id": "6386a23e-8fab-4d33-a02d-877a819d7c01",
   "metadata": {},
   "outputs": [
    {
     "name": "stdout",
     "output_type": "stream",
     "text": [
      "1\n",
      "2\n",
      "3\n",
      "4\n"
     ]
    }
   ],
   "source": [
    "for i in ar_2:\n",
    "    for j in i:\n",
    "        print(j)"
   ]
  },
  {
   "cell_type": "code",
   "execution_count": 62,
   "id": "b4efa7b6-2e50-4ae5-ada6-abdcbf826f9d",
   "metadata": {},
   "outputs": [
    {
     "name": "stdout",
     "output_type": "stream",
     "text": [
      "1\n",
      "2\n",
      "3\n",
      "4\n"
     ]
    }
   ],
   "source": [
    "for i in ar_3:\n",
    "    for j in i:\n",
    "        for k in j:\n",
    "            print(k)"
   ]
  },
  {
   "cell_type": "code",
   "execution_count": 63,
   "id": "5d072af3-9d51-4a09-a014-3010c2b0e848",
   "metadata": {},
   "outputs": [
    {
     "name": "stdout",
     "output_type": "stream",
     "text": [
      "1\n",
      "2\n",
      "3\n",
      "4\n"
     ]
    }
   ],
   "source": [
    "for i in np.nditer(ar_3):\n",
    "    print(i)"
   ]
  },
  {
   "cell_type": "code",
   "execution_count": 64,
   "id": "085431cc-4378-422e-8485-70c3c922cfbd",
   "metadata": {},
   "outputs": [
    {
     "name": "stdout",
     "output_type": "stream",
     "text": [
      "((0, 0, 0), 1)\n",
      "((0, 0, 1), 2)\n",
      "((0, 1, 0), 3)\n",
      "((0, 1, 1), 4)\n"
     ]
    }
   ],
   "source": [
    "for i in np.ndenumerate(ar_3):\n",
    "    print(i)"
   ]
  },
  {
   "cell_type": "code",
   "execution_count": 65,
   "id": "9b0691d0-f92e-42db-ba2d-b01c1153a4c5",
   "metadata": {},
   "outputs": [
    {
     "name": "stdout",
     "output_type": "stream",
     "text": [
      "((0, 0), 1)\n",
      "((0, 1), 2)\n",
      "((1, 0), 3)\n",
      "((1, 1), 4)\n"
     ]
    }
   ],
   "source": [
    "for i in np.ndenumerate(ar_2):\n",
    "    print(i)"
   ]
  },
  {
   "cell_type": "markdown",
   "id": "cc974bf2-e4b0-4a62-8d8f-f7f29421bc28",
   "metadata": {},
   "source": [
    "### Copy vs View in NumPy"
   ]
  },
  {
   "cell_type": "code",
   "execution_count": 66,
   "id": "18a23baa-033f-4ce1-b9f8-54cf138656cb",
   "metadata": {},
   "outputs": [],
   "source": [
    "array1 = np.array([1,2,3,4])\n",
    "co = array1.copy()\n",
    "\n",
    "# Creating copies is necessary when you need to ensure that the original data remains unchanged when you modify the new array."
   ]
  },
  {
   "cell_type": "code",
   "execution_count": 67,
   "id": "0c571836-57e8-4a6f-b170-1be4d5f665f5",
   "metadata": {},
   "outputs": [],
   "source": [
    "array1[2] = 9"
   ]
  },
  {
   "cell_type": "code",
   "execution_count": 68,
   "id": "a6d495e9-d8da-4101-a7a4-1959099dd48d",
   "metadata": {},
   "outputs": [
    {
     "name": "stdout",
     "output_type": "stream",
     "text": [
      "[1 2 9 4]\n",
      "[1 2 3 4]\n"
     ]
    }
   ],
   "source": [
    "print(array1)\n",
    "print(co)"
   ]
  },
  {
   "cell_type": "code",
   "execution_count": 69,
   "id": "a9ed2385-6400-40c5-bd39-99785a6821a4",
   "metadata": {},
   "outputs": [],
   "source": [
    "array2 = np.array([5,6,7,8])\n",
    "vi = array2.view()\n",
    "\n",
    "# Views are beneficial because they avoid copying data, making operations faster and using less memory. \n",
    "# However, modifications to the view affect the original array, which is crucial to keep in mind during data manipulation."
   ]
  },
  {
   "cell_type": "code",
   "execution_count": 70,
   "id": "4e1f0390-475b-4ac0-a1ad-160d53b8633f",
   "metadata": {},
   "outputs": [],
   "source": [
    "array2[2] = 3"
   ]
  },
  {
   "cell_type": "code",
   "execution_count": 71,
   "id": "c4e2fa1b-54d6-4318-a6f3-ef5ba4d43cd3",
   "metadata": {},
   "outputs": [
    {
     "name": "stdout",
     "output_type": "stream",
     "text": [
      "[5 6 3 8]\n",
      "[5 6 3 8]\n"
     ]
    }
   ],
   "source": [
    "print(array2)\n",
    "print(vi)"
   ]
  },
  {
   "cell_type": "markdown",
   "id": "5bc89f9d-ba2d-4a4a-9e2e-617a94d90e19",
   "metadata": {},
   "source": [
    "### Matrix Multiplication"
   ]
  },
  {
   "cell_type": "code",
   "execution_count": 72,
   "id": "94c2977a-cf33-4eb1-9456-47ed27addd88",
   "metadata": {},
   "outputs": [
    {
     "name": "stdout",
     "output_type": "stream",
     "text": [
      "<class 'numpy.matrix'>\n"
     ]
    }
   ],
   "source": [
    "mat1 = np.matrix([[1,2],[3,4]])\n",
    "mat2 = np.matrix([[5,6],[7,8]])\n",
    "print(type(mat1))"
   ]
  },
  {
   "cell_type": "code",
   "execution_count": 73,
   "id": "f7ecc8c5-2d14-4b7d-a8d3-ab76d90206af",
   "metadata": {},
   "outputs": [
    {
     "data": {
      "text/plain": [
       "numpy.ndarray"
      ]
     },
     "execution_count": 73,
     "metadata": {},
     "output_type": "execute_result"
    }
   ],
   "source": [
    "p = np.array([[1,2],[3,4]])\n",
    "q = np.array([[5,6],[7,8]])\n",
    "type(p)"
   ]
  },
  {
   "cell_type": "code",
   "execution_count": 74,
   "id": "095bf04e-f0e8-486e-b76f-c50eb63cae4f",
   "metadata": {},
   "outputs": [
    {
     "name": "stdout",
     "output_type": "stream",
     "text": [
      "[[1 2]\n",
      " [3 4]]\n",
      "[[1 2]\n",
      " [3 4]]\n"
     ]
    }
   ],
   "source": [
    "print(mat1)\n",
    "print(p)"
   ]
  },
  {
   "cell_type": "code",
   "execution_count": 75,
   "id": "fe14f632-e99a-4db9-a591-f4f382c4477f",
   "metadata": {},
   "outputs": [
    {
     "data": {
      "text/plain": [
       "matrix([[ 6,  8],\n",
       "        [10, 12]])"
      ]
     },
     "execution_count": 75,
     "metadata": {},
     "output_type": "execute_result"
    }
   ],
   "source": [
    "mat1 + mat2"
   ]
  },
  {
   "cell_type": "code",
   "execution_count": 76,
   "id": "4dd2415d-15fe-4ccf-ba2e-07a433fb9d03",
   "metadata": {},
   "outputs": [
    {
     "data": {
      "text/plain": [
       "array([[ 6,  8],\n",
       "       [10, 12]])"
      ]
     },
     "execution_count": 76,
     "metadata": {},
     "output_type": "execute_result"
    }
   ],
   "source": [
    "p + q   ## --> result same as mat1 + mat2"
   ]
  },
  {
   "cell_type": "code",
   "execution_count": 77,
   "id": "7f6bfabc-dcf6-49f4-ae89-5286d6da8d7b",
   "metadata": {},
   "outputs": [
    {
     "data": {
      "text/plain": [
       "matrix([[19, 22],\n",
       "        [43, 50]])"
      ]
     },
     "execution_count": 77,
     "metadata": {},
     "output_type": "execute_result"
    }
   ],
   "source": [
    "# matrix multiplication\n",
    "mat1 * mat2   "
   ]
  },
  {
   "cell_type": "code",
   "execution_count": 78,
   "id": "74d58109-14c5-48d0-9499-064c6a34c25d",
   "metadata": {},
   "outputs": [
    {
     "data": {
      "text/plain": [
       "array([[ 5, 12],\n",
       "       [21, 32]])"
      ]
     },
     "execution_count": 78,
     "metadata": {},
     "output_type": "execute_result"
    }
   ],
   "source": [
    "# normal element to element multiplication\n",
    "p * q  ## --> result different than mat1 * mat2"
   ]
  },
  {
   "cell_type": "code",
   "execution_count": 79,
   "id": "a96f2370-4ef8-49fc-b2e4-2ca0cb9b22ae",
   "metadata": {},
   "outputs": [
    {
     "data": {
      "text/plain": [
       "array([[19, 22],\n",
       "       [43, 50]])"
      ]
     },
     "execution_count": 79,
     "metadata": {},
     "output_type": "execute_result"
    }
   ],
   "source": [
    "# matrix like multiplication of arrays\n",
    "np.dot(p, q)   ## --> result same as mat1 * mat2"
   ]
  },
  {
   "cell_type": "code",
   "execution_count": 80,
   "id": "ba8b9470-b97b-473c-b7f6-ddc840631ce1",
   "metadata": {},
   "outputs": [],
   "source": [
    "# Matrix Functions in NumPy\n",
    "\n",
    "# np.transpose(mat1)  or  mat1.T  --> transpose of mat1\n",
    "# np.swapaxes(mat1, 0, 1)  --> same result as transpose\n",
    "# np.linalg.inv(mat1)      --> inverse of mat1\n",
    "# np.linalg.matrix_power(mat1, 2)  --> power of mat1\n",
    "# np.linalg.det(mat1)      --> determinant of mat1"
   ]
  },
  {
   "cell_type": "markdown",
   "id": "80fda1c9-b40f-4deb-9426-ac96ade85601",
   "metadata": {},
   "source": [
    "## -------------------------------------"
   ]
  },
  {
   "cell_type": "markdown",
   "id": "c0045a9e-4eaa-4d93-aaf4-24ae5cfdc404",
   "metadata": {},
   "source": [
    "# NumPy for EDA"
   ]
  },
  {
   "cell_type": "code",
   "execution_count": 81,
   "id": "d2b06399-bb9d-446d-9c1f-2bf7613970dd",
   "metadata": {},
   "outputs": [
    {
     "data": {
      "text/plain": [
       "array([1, 2, 3, 5])"
      ]
     },
     "execution_count": 81,
     "metadata": {},
     "output_type": "execute_result"
    }
   ],
   "source": [
    "arr"
   ]
  },
  {
   "cell_type": "code",
   "execution_count": 82,
   "id": "c4d63823-361c-4b61-83f0-858a77647d0d",
   "metadata": {},
   "outputs": [
    {
     "data": {
      "text/plain": [
       "array([ True,  True, False, False])"
      ]
     },
     "execution_count": 82,
     "metadata": {},
     "output_type": "execute_result"
    }
   ],
   "source": [
    "arr<=2"
   ]
  },
  {
   "cell_type": "code",
   "execution_count": 83,
   "id": "aa81a978-0949-4342-8834-569cd6ea170e",
   "metadata": {},
   "outputs": [
    {
     "data": {
      "text/plain": [
       "array([1, 2])"
      ]
     },
     "execution_count": 83,
     "metadata": {},
     "output_type": "execute_result"
    }
   ],
   "source": [
    "arr[arr<=2]"
   ]
  },
  {
   "cell_type": "code",
   "execution_count": 84,
   "id": "94c8b515-d449-43db-a405-5fe010183f52",
   "metadata": {},
   "outputs": [
    {
     "data": {
      "text/plain": [
       "array([1])"
      ]
     },
     "execution_count": 84,
     "metadata": {},
     "output_type": "execute_result"
    }
   ],
   "source": [
    "arr[arr<2]"
   ]
  },
  {
   "cell_type": "code",
   "execution_count": 85,
   "id": "b8f029db-5327-4ecc-b6c8-b4d6e44416b6",
   "metadata": {},
   "outputs": [
    {
     "data": {
      "text/plain": [
       "array([[1, 2, 3, 4, 5],\n",
       "       [2, 3, 4, 5, 6],\n",
       "       [3, 4, 5, 6, 7]])"
      ]
     },
     "execution_count": 85,
     "metadata": {},
     "output_type": "execute_result"
    }
   ],
   "source": [
    "arr1"
   ]
  },
  {
   "cell_type": "code",
   "execution_count": 86,
   "id": "b4044f1a-dd4c-45a3-9c8f-c3c5a0639dde",
   "metadata": {},
   "outputs": [
    {
     "data": {
      "text/plain": [
       "array([[1, 2, 3],\n",
       "       [4, 5, 2],\n",
       "       [3, 4, 5],\n",
       "       [6, 3, 4],\n",
       "       [5, 6, 7]])"
      ]
     },
     "execution_count": 86,
     "metadata": {},
     "output_type": "execute_result"
    }
   ],
   "source": [
    "arr1.reshape(5, 3)"
   ]
  },
  {
   "cell_type": "markdown",
   "id": "534ac2ef-6451-42ee-8e3b-f806c3c73274",
   "metadata": {},
   "source": [
    "#### Another method to create an Array"
   ]
  },
  {
   "cell_type": "code",
   "execution_count": 87,
   "id": "eb8c82fd-44dc-4e62-80a5-85f9fcefaa86",
   "metadata": {},
   "outputs": [],
   "source": [
    "arr2 = np.arange(1, 11, 1)  ## np.arange(start, stop, step size)"
   ]
  },
  {
   "cell_type": "code",
   "execution_count": 88,
   "id": "95685ac8-7530-44f4-a1a5-df68d1aadf6d",
   "metadata": {},
   "outputs": [
    {
     "data": {
      "text/plain": [
       "array([ 1,  2,  3,  4,  5,  6,  7,  8,  9, 10])"
      ]
     },
     "execution_count": 88,
     "metadata": {},
     "output_type": "execute_result"
    }
   ],
   "source": [
    "arr2"
   ]
  },
  {
   "cell_type": "code",
   "execution_count": 89,
   "id": "cc933a8a-3fa0-4ab2-950f-088e4e496eb5",
   "metadata": {},
   "outputs": [
    {
     "data": {
      "text/plain": [
       "array([[ 1,  2,  3,  4,  5,  6,  7,  8,  9, 10]])"
      ]
     },
     "execution_count": 89,
     "metadata": {},
     "output_type": "execute_result"
    }
   ],
   "source": [
    "arr2.reshape(1, 10)"
   ]
  },
  {
   "cell_type": "code",
   "execution_count": 90,
   "id": "e772d099-c9d5-4391-b41d-44a4d7a2f836",
   "metadata": {},
   "outputs": [
    {
     "data": {
      "text/plain": [
       "array([[ 1,  2,  3,  4,  5],\n",
       "       [ 6,  7,  8,  9, 10]])"
      ]
     },
     "execution_count": 90,
     "metadata": {},
     "output_type": "execute_result"
    }
   ],
   "source": [
    "arr2.reshape(2,5)"
   ]
  },
  {
   "cell_type": "code",
   "execution_count": 91,
   "id": "b0411a53-1dfd-4d5d-ad46-f9b8b75f7e75",
   "metadata": {},
   "outputs": [
    {
     "data": {
      "text/plain": [
       "array([[ 1],\n",
       "       [ 2],\n",
       "       [ 3],\n",
       "       [ 4],\n",
       "       [ 5],\n",
       "       [ 6],\n",
       "       [ 7],\n",
       "       [ 8],\n",
       "       [ 9],\n",
       "       [10]])"
      ]
     },
     "execution_count": 91,
     "metadata": {},
     "output_type": "execute_result"
    }
   ],
   "source": [
    "arr2.reshape(10, 1)"
   ]
  },
  {
   "cell_type": "code",
   "execution_count": 92,
   "id": "e2b6d1de-0d7c-417e-822c-af8cc1bc28f6",
   "metadata": {},
   "outputs": [
    {
     "data": {
      "text/plain": [
       "array([[[ 1],\n",
       "        [ 2],\n",
       "        [ 3],\n",
       "        [ 4],\n",
       "        [ 5],\n",
       "        [ 6],\n",
       "        [ 7],\n",
       "        [ 8],\n",
       "        [ 9],\n",
       "        [10]]])"
      ]
     },
     "execution_count": 92,
     "metadata": {},
     "output_type": "execute_result"
    }
   ],
   "source": [
    "## 3-dimensioanl array\n",
    "arr2.reshape(1, 10, 1)"
   ]
  },
  {
   "cell_type": "code",
   "execution_count": 93,
   "id": "f9e8c611-c40d-4687-bea2-c4df883d0639",
   "metadata": {},
   "outputs": [
    {
     "data": {
      "text/plain": [
       "array([[1, 2, 3, 4, 5],\n",
       "       [2, 3, 4, 5, 6],\n",
       "       [3, 4, 5, 6, 7]])"
      ]
     },
     "execution_count": 93,
     "metadata": {},
     "output_type": "execute_result"
    }
   ],
   "source": [
    "arr1"
   ]
  },
  {
   "cell_type": "code",
   "execution_count": 94,
   "id": "4d963b9b-1b49-4fc4-83e3-c48eb1eb32ae",
   "metadata": {},
   "outputs": [
    {
     "data": {
      "text/plain": [
       "array([[ 2,  4,  6,  8, 10],\n",
       "       [ 4,  6,  8, 10, 12],\n",
       "       [ 6,  8, 10, 12, 14]])"
      ]
     },
     "execution_count": 94,
     "metadata": {},
     "output_type": "execute_result"
    }
   ],
   "source": [
    "arr1 * 2"
   ]
  },
  {
   "cell_type": "code",
   "execution_count": 95,
   "id": "04783cd8-65b2-4d3f-8197-9227c9f3e5d4",
   "metadata": {},
   "outputs": [
    {
     "data": {
      "text/plain": [
       "array([[ 1,  4,  9, 16, 25],\n",
       "       [ 4,  9, 16, 25, 36],\n",
       "       [ 9, 16, 25, 36, 49]])"
      ]
     },
     "execution_count": 95,
     "metadata": {},
     "output_type": "execute_result"
    }
   ],
   "source": [
    "arr1 * arr1"
   ]
  },
  {
   "cell_type": "code",
   "execution_count": 96,
   "id": "213f5490-8580-414e-bc6d-7ab6e7341dfd",
   "metadata": {},
   "outputs": [
    {
     "data": {
      "text/plain": [
       "array([[1., 1., 1., 1.],\n",
       "       [1., 1., 1., 1.],\n",
       "       [1., 1., 1., 1.]])"
      ]
     },
     "execution_count": 96,
     "metadata": {},
     "output_type": "execute_result"
    }
   ],
   "source": [
    "np.ones((3, 4))"
   ]
  },
  {
   "cell_type": "code",
   "execution_count": 97,
   "id": "bf8732d6-31d4-45b7-9285-2361a1c60ce7",
   "metadata": {},
   "outputs": [
    {
     "data": {
      "text/plain": [
       "array([[1, 1, 1, 1],\n",
       "       [1, 1, 1, 1],\n",
       "       [1, 1, 1, 1]])"
      ]
     },
     "execution_count": 97,
     "metadata": {},
     "output_type": "execute_result"
    }
   ],
   "source": [
    "np.ones((3, 4), dtype = int)"
   ]
  },
  {
   "cell_type": "code",
   "execution_count": 98,
   "id": "bf9216d9-b153-4dc2-bfc6-dddfd1fe78cc",
   "metadata": {},
   "outputs": [
    {
     "data": {
      "text/plain": [
       "array([[0, 0, 0],\n",
       "       [0, 0, 0]])"
      ]
     },
     "execution_count": 98,
     "metadata": {},
     "output_type": "execute_result"
    }
   ],
   "source": [
    "np.zeros((2,3), dtype = int)"
   ]
  },
  {
   "cell_type": "markdown",
   "id": "360cff25-df54-44e2-af98-18dd93b7874a",
   "metadata": {},
   "source": [
    "### Random function"
   ]
  },
  {
   "cell_type": "code",
   "execution_count": 99,
   "id": "badb12eb-c7e3-4263-a50c-deae8e6fc6f0",
   "metadata": {},
   "outputs": [
    {
     "data": {
      "text/plain": [
       "26"
      ]
     },
     "execution_count": 99,
     "metadata": {},
     "output_type": "execute_result"
    }
   ],
   "source": [
    "np.random.randint(10, 30)"
   ]
  },
  {
   "cell_type": "code",
   "execution_count": 100,
   "id": "281d35eb-a181-4857-aaf8-464430b371fc",
   "metadata": {},
   "outputs": [],
   "source": [
    "arr3 = np.random.randint(10, 30, 5)"
   ]
  },
  {
   "cell_type": "code",
   "execution_count": 101,
   "id": "6a78aa3c-6a3e-4e56-81ca-9a5febfea443",
   "metadata": {},
   "outputs": [
    {
     "data": {
      "text/plain": [
       "array([14., 29., 12., 13., 18.])"
      ]
     },
     "execution_count": 101,
     "metadata": {},
     "output_type": "execute_result"
    }
   ],
   "source": [
    "## np.random.randint(10, 30, size = 5, dtype = float)  ---> wrong\n",
    "np.random.randint(10, 30, size=5).astype(float)     ## ---> correct"
   ]
  },
  {
   "cell_type": "code",
   "execution_count": 102,
   "id": "3012ca43-136e-48a0-a686-7e7578a2e419",
   "metadata": {},
   "outputs": [
    {
     "data": {
      "text/plain": [
       "(5,)"
      ]
     },
     "execution_count": 102,
     "metadata": {},
     "output_type": "execute_result"
    }
   ],
   "source": [
    "arr3.shape"
   ]
  },
  {
   "cell_type": "code",
   "execution_count": 103,
   "id": "ce807078-d8bb-44d7-9f90-0c7aa3f788b4",
   "metadata": {},
   "outputs": [
    {
     "data": {
      "text/plain": [
       "array([[17],\n",
       "       [20],\n",
       "       [19],\n",
       "       [24],\n",
       "       [24]])"
      ]
     },
     "execution_count": 103,
     "metadata": {},
     "output_type": "execute_result"
    }
   ],
   "source": [
    "arr3.reshape(5, 1)"
   ]
  },
  {
   "cell_type": "code",
   "execution_count": 104,
   "id": "e3ebd996-d7ab-456a-8cdb-a0f93d9d1caa",
   "metadata": {},
   "outputs": [
    {
     "data": {
      "text/plain": [
       "0.9603401577276368"
      ]
     },
     "execution_count": 104,
     "metadata": {},
     "output_type": "execute_result"
    }
   ],
   "source": [
    "## To generate random floats in the half-open interval [0.0, 1.0)\n",
    "np.random.random_sample()"
   ]
  },
  {
   "cell_type": "code",
   "execution_count": 105,
   "id": "81599de4-0ed0-43c6-b59e-72785c82d0b6",
   "metadata": {},
   "outputs": [
    {
     "data": {
      "text/plain": [
       "array([[-0.63491937,  0.98960443, -0.10333125,  0.3259723 , -0.78105999],\n",
       "       [ 0.21975272, -1.57382472,  0.06865768,  0.26739419,  1.58514403],\n",
       "       [ 1.45080913,  0.71019319,  0.56758942, -0.33391013,  0.25539348],\n",
       "       [-2.16926531,  0.62545168, -2.83300031, -0.79105988,  0.45343845]])"
      ]
     },
     "execution_count": 105,
     "metadata": {},
     "output_type": "execute_result"
    }
   ],
   "source": [
    "## Normal/Gaussian ditribution (Mean = 0, Std. Deviation = 1)\n",
    "np.random.randn(4, 5)"
   ]
  },
  {
   "cell_type": "code",
   "execution_count": 106,
   "id": "b641fb37-12d0-40b5-a85c-cc4288699f3f",
   "metadata": {},
   "outputs": [
    {
     "data": {
      "text/plain": [
       "array([[0.3034166 , 0.40339465, 0.74527615, 0.13483701, 0.74883319],\n",
       "       [0.7955167 , 0.00675517, 0.8430602 , 0.06564982, 0.20615624],\n",
       "       [0.22522888, 0.04075725, 0.40015242, 0.36100975, 0.39025758],\n",
       "       [0.51388704, 0.9140424 , 0.07375525, 0.86119322, 0.74776954]])"
      ]
     },
     "execution_count": 106,
     "metadata": {},
     "output_type": "execute_result"
    }
   ],
   "source": [
    "np.random.rand(4, 5)"
   ]
  },
  {
   "cell_type": "markdown",
   "id": "de691cd9-e8ee-4720-af2f-4a26efbc5204",
   "metadata": {},
   "source": [
    "#### .randn() and .random_sample() both can be used interchangeably"
   ]
  },
  {
   "cell_type": "code",
   "execution_count": 107,
   "id": "04fe1d12-641f-45b8-90f3-5ff9b86b6483",
   "metadata": {},
   "outputs": [
    {
     "data": {
      "text/plain": [
       "array([[0.86217117, 0.67589771, 0.81686343, 0.81338834, 0.38476733],\n",
       "       [0.03712028, 0.94157471, 0.15797453, 0.51052826, 0.90577003],\n",
       "       [0.82136879, 0.90333045, 0.08266492, 0.7473348 , 0.41754707],\n",
       "       [0.8985955 , 0.97231748, 0.9834825 , 0.93519291, 0.00954598]])"
      ]
     },
     "execution_count": 107,
     "metadata": {},
     "output_type": "execute_result"
    }
   ],
   "source": [
    "np.random.random_sample((4, 5))"
   ]
  },
  {
   "cell_type": "code",
   "execution_count": null,
   "id": "b1b48d63-a306-4ff8-8fb9-3ee6f99b6bf3",
   "metadata": {},
   "outputs": [],
   "source": []
  },
  {
   "cell_type": "code",
   "execution_count": null,
   "id": "e35ea2b8-2f68-43b7-a232-d3787f980f4a",
   "metadata": {},
   "outputs": [],
   "source": []
  }
 ],
 "metadata": {
  "kernelspec": {
   "display_name": "Python 3 (ipykernel)",
   "language": "python",
   "name": "python3"
  },
  "language_info": {
   "codemirror_mode": {
    "name": "ipython",
    "version": 3
   },
   "file_extension": ".py",
   "mimetype": "text/x-python",
   "name": "python",
   "nbconvert_exporter": "python",
   "pygments_lexer": "ipython3",
   "version": "3.11.4"
  }
 },
 "nbformat": 4,
 "nbformat_minor": 5
}
